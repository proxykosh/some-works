{
 "cells": [
  {
   "cell_type": "markdown",
   "metadata": {
    "id": "qRuC9TWzfhnx"
   },
   "source": [
    "# Экзамен по курсу \"Аналитика данных на Python\""
   ]
  },
  {
   "cell_type": "markdown",
   "metadata": {
    "id": "QvAhR3txfhn1"
   },
   "source": [
    "Этот тест проверит Ваши навыки работы с таблицами данных с помощью библиотек pandas и numpy. Задания делятся на простые (⭐️), средние (⭐️⭐️) и сложные (⭐️⭐️⭐️). Решение простых заданий, как правило, требует одной-двух операций с таблицами, тогда как для более сложных может потребоваться несколько последовательных преобразований данных."
   ]
  },
  {
   "cell_type": "markdown",
   "metadata": {
    "id": "Frn9LjCFfhn6"
   },
   "source": [
    "##  Предыстория"
   ]
  },
  {
   "cell_type": "markdown",
   "metadata": {
    "id": "fQ1HxL0Wfhn-"
   },
   "source": [
    "Сегодня Ваш первый день работы в крупном интернет-магазине, который продаёт товары с доставкой по всему миру. Ваша первая задача – проанализировать базу данных покупок, совершённых в магазине за последние несколько лет. База содержит информацию об отдельных транзакциях, про каждую из которых известны номер инвойса (InvoiceNo), дата инвойса(InvoiceDate), код товара (StockCode), описание товара(Description), количество товара в транзакции (Quantity), стоимость единицы товара (UnitPrice), код покупателя (CustomerID), страна покупателя (Country).\n",
    "\n",
    "База выгружена для Вас в формате CSV: файл [```online-retail.csv```](https://drive.google.com/file/d/1O1oJtpEu-u6s6xTu7seQfnNcQjYCt0GF/view?usp=sharing)"
   ]
  },
  {
   "cell_type": "code",
   "execution_count": 1,
   "metadata": {
    "id": "rueTavqpfhoB"
   },
   "outputs": [],
   "source": [
    "import numpy as np\n",
    "import pandas as pd\n",
    "import matplotlib.pyplot as plt\n",
    "import math\n",
    "from datetime import datetime, date, time"
   ]
  },
  {
   "cell_type": "markdown",
   "metadata": {
    "id": "_And5NHkfhoU"
   },
   "source": [
    "## ⭐️ Вопрос 1\n",
    "\n",
    "Загрузите данные из файла online-retail.csv в переменную типа pandas DataFrame\n",
    "\n",
    "Подсказка: Используйте функцию из библиотеки pandas\n",
    "\n",
    "Какой символ-разделитель используется в этом файле?\n",
    "\n",
    "* Запятая \",\"\n",
    "* Двоеточие \":\"\n",
    "* Точка с запятой \";\"\n",
    "* Символ табуляции \"tab\""
   ]
  },
  {
   "cell_type": "markdown",
   "metadata": {
    "id": "l_C6GGXmfhoW"
   },
   "source": [
    "#### Решение"
   ]
  },
  {
   "cell_type": "code",
   "execution_count": 2,
   "metadata": {
    "id": "zabS9-nPfhoZ"
   },
   "outputs": [
    {
     "data": {
      "text/html": [
       "<div>\n",
       "<style scoped>\n",
       "    .dataframe tbody tr th:only-of-type {\n",
       "        vertical-align: middle;\n",
       "    }\n",
       "\n",
       "    .dataframe tbody tr th {\n",
       "        vertical-align: top;\n",
       "    }\n",
       "\n",
       "    .dataframe thead th {\n",
       "        text-align: right;\n",
       "    }\n",
       "</style>\n",
       "<table border=\"1\" class=\"dataframe\">\n",
       "  <thead>\n",
       "    <tr style=\"text-align: right;\">\n",
       "      <th></th>\n",
       "      <th>InvoiceNo</th>\n",
       "      <th>StockCode</th>\n",
       "      <th>Description</th>\n",
       "      <th>Quantity</th>\n",
       "      <th>InvoiceDate</th>\n",
       "      <th>UnitPrice</th>\n",
       "      <th>CustomerID</th>\n",
       "      <th>Country</th>\n",
       "    </tr>\n",
       "  </thead>\n",
       "  <tbody>\n",
       "    <tr>\n",
       "      <th>0</th>\n",
       "      <td>536365</td>\n",
       "      <td>85123A</td>\n",
       "      <td>WHITE HANGING HEART T-LIGHT HOLDER</td>\n",
       "      <td>6</td>\n",
       "      <td>2010-12-01 08:26:00</td>\n",
       "      <td>2.55</td>\n",
       "      <td>17850.0</td>\n",
       "      <td>United Kingdom</td>\n",
       "    </tr>\n",
       "    <tr>\n",
       "      <th>1</th>\n",
       "      <td>536365</td>\n",
       "      <td>71053</td>\n",
       "      <td>WHITE METAL LANTERN</td>\n",
       "      <td>6</td>\n",
       "      <td>2010-12-01 08:26:00</td>\n",
       "      <td>3.39</td>\n",
       "      <td>17850.0</td>\n",
       "      <td>United Kingdom</td>\n",
       "    </tr>\n",
       "    <tr>\n",
       "      <th>2</th>\n",
       "      <td>536365</td>\n",
       "      <td>84406B</td>\n",
       "      <td>CREAM CUPID HEARTS COAT HANGER</td>\n",
       "      <td>8</td>\n",
       "      <td>2010-12-01 08:26:00</td>\n",
       "      <td>2.75</td>\n",
       "      <td>17850.0</td>\n",
       "      <td>United Kingdom</td>\n",
       "    </tr>\n",
       "    <tr>\n",
       "      <th>3</th>\n",
       "      <td>536365</td>\n",
       "      <td>84029G</td>\n",
       "      <td>KNITTED UNION FLAG HOT WATER BOTTLE</td>\n",
       "      <td>6</td>\n",
       "      <td>2010-12-01 08:26:00</td>\n",
       "      <td>3.39</td>\n",
       "      <td>17850.0</td>\n",
       "      <td>United Kingdom</td>\n",
       "    </tr>\n",
       "    <tr>\n",
       "      <th>4</th>\n",
       "      <td>536365</td>\n",
       "      <td>84029E</td>\n",
       "      <td>RED WOOLLY HOTTIE WHITE HEART.</td>\n",
       "      <td>6</td>\n",
       "      <td>2010-12-01 08:26:00</td>\n",
       "      <td>3.39</td>\n",
       "      <td>17850.0</td>\n",
       "      <td>United Kingdom</td>\n",
       "    </tr>\n",
       "    <tr>\n",
       "      <th>5</th>\n",
       "      <td>536365</td>\n",
       "      <td>22752</td>\n",
       "      <td>SET 7 BABUSHKA NESTING BOXES</td>\n",
       "      <td>2</td>\n",
       "      <td>2010-12-01 08:26:00</td>\n",
       "      <td>7.65</td>\n",
       "      <td>17850.0</td>\n",
       "      <td>United Kingdom</td>\n",
       "    </tr>\n",
       "    <tr>\n",
       "      <th>6</th>\n",
       "      <td>536365</td>\n",
       "      <td>21730</td>\n",
       "      <td>GLASS STAR FROSTED T-LIGHT HOLDER</td>\n",
       "      <td>6</td>\n",
       "      <td>2010-12-01 08:26:00</td>\n",
       "      <td>4.25</td>\n",
       "      <td>17850.0</td>\n",
       "      <td>United Kingdom</td>\n",
       "    </tr>\n",
       "    <tr>\n",
       "      <th>7</th>\n",
       "      <td>536366</td>\n",
       "      <td>22633</td>\n",
       "      <td>HAND WARMER UNION JACK</td>\n",
       "      <td>6</td>\n",
       "      <td>2010-12-01 08:28:00</td>\n",
       "      <td>1.85</td>\n",
       "      <td>17850.0</td>\n",
       "      <td>United Kingdom</td>\n",
       "    </tr>\n",
       "    <tr>\n",
       "      <th>8</th>\n",
       "      <td>536366</td>\n",
       "      <td>22632</td>\n",
       "      <td>HAND WARMER RED POLKA DOT</td>\n",
       "      <td>6</td>\n",
       "      <td>2010-12-01 08:28:00</td>\n",
       "      <td>1.85</td>\n",
       "      <td>17850.0</td>\n",
       "      <td>United Kingdom</td>\n",
       "    </tr>\n",
       "    <tr>\n",
       "      <th>9</th>\n",
       "      <td>536367</td>\n",
       "      <td>84879</td>\n",
       "      <td>ASSORTED COLOUR BIRD ORNAMENT</td>\n",
       "      <td>32</td>\n",
       "      <td>2010-12-01 08:34:00</td>\n",
       "      <td>1.69</td>\n",
       "      <td>13047.0</td>\n",
       "      <td>United Kingdom</td>\n",
       "    </tr>\n",
       "  </tbody>\n",
       "</table>\n",
       "</div>"
      ],
      "text/plain": [
       "  InvoiceNo StockCode                          Description  Quantity  \\\n",
       "0    536365    85123A   WHITE HANGING HEART T-LIGHT HOLDER         6   \n",
       "1    536365     71053                  WHITE METAL LANTERN         6   \n",
       "2    536365    84406B       CREAM CUPID HEARTS COAT HANGER         8   \n",
       "3    536365    84029G  KNITTED UNION FLAG HOT WATER BOTTLE         6   \n",
       "4    536365    84029E       RED WOOLLY HOTTIE WHITE HEART.         6   \n",
       "5    536365     22752         SET 7 BABUSHKA NESTING BOXES         2   \n",
       "6    536365     21730    GLASS STAR FROSTED T-LIGHT HOLDER         6   \n",
       "7    536366     22633               HAND WARMER UNION JACK         6   \n",
       "8    536366     22632            HAND WARMER RED POLKA DOT         6   \n",
       "9    536367     84879        ASSORTED COLOUR BIRD ORNAMENT        32   \n",
       "\n",
       "          InvoiceDate  UnitPrice  CustomerID         Country  \n",
       "0 2010-12-01 08:26:00       2.55     17850.0  United Kingdom  \n",
       "1 2010-12-01 08:26:00       3.39     17850.0  United Kingdom  \n",
       "2 2010-12-01 08:26:00       2.75     17850.0  United Kingdom  \n",
       "3 2010-12-01 08:26:00       3.39     17850.0  United Kingdom  \n",
       "4 2010-12-01 08:26:00       3.39     17850.0  United Kingdom  \n",
       "5 2010-12-01 08:26:00       7.65     17850.0  United Kingdom  \n",
       "6 2010-12-01 08:26:00       4.25     17850.0  United Kingdom  \n",
       "7 2010-12-01 08:28:00       1.85     17850.0  United Kingdom  \n",
       "8 2010-12-01 08:28:00       1.85     17850.0  United Kingdom  \n",
       "9 2010-12-01 08:34:00       1.69     13047.0  United Kingdom  "
      ]
     },
     "execution_count": 2,
     "metadata": {},
     "output_type": "execute_result"
    }
   ],
   "source": [
    "df =pd.read_csv(\"online-retail.csv\", sep = \";\", parse_dates = ['InvoiceDate'], dayfirst = False)\n",
    "df.head(10)"
   ]
  },
  {
   "cell_type": "markdown",
   "metadata": {
    "id": "zoiRAf7Yfhon"
   },
   "source": [
    "## ⭐️ Вопрос 2\n",
    "\n",
    "Сколько строк в полученной таблице (не считая заголовков столбцов)?"
   ]
  },
  {
   "cell_type": "markdown",
   "metadata": {
    "id": "aWFyZcI9fhop"
   },
   "source": [
    "#### Решение"
   ]
  },
  {
   "cell_type": "code",
   "execution_count": 3,
   "metadata": {
    "id": "q86b9euEfhos"
   },
   "outputs": [
    {
     "data": {
      "text/plain": [
       "541911"
      ]
     },
     "execution_count": 3,
     "metadata": {},
     "output_type": "execute_result"
    }
   ],
   "source": [
    "df.shape[0]"
   ]
  },
  {
   "cell_type": "markdown",
   "metadata": {
    "id": "iqElS4zqfho1"
   },
   "source": [
    "## ⭐️ Вопрос 3\n",
    "\n",
    "Сколько столбцов в полученной таблице (не считая индекса)?"
   ]
  },
  {
   "cell_type": "markdown",
   "metadata": {
    "id": "HmYnaf2afho4"
   },
   "source": [
    "#### Решение"
   ]
  },
  {
   "cell_type": "code",
   "execution_count": 4,
   "metadata": {
    "id": "8ko0tmeNfho7"
   },
   "outputs": [
    {
     "data": {
      "text/plain": [
       "8"
      ]
     },
     "execution_count": 4,
     "metadata": {},
     "output_type": "execute_result"
    }
   ],
   "source": [
    "df.shape[1]"
   ]
  },
  {
   "cell_type": "markdown",
   "metadata": {
    "id": "YetDAhQzfhpF"
   },
   "source": [
    "## ⭐️ Вопрос 4\n",
    "\n",
    "Как называется столбец с самым коротким названием?"
   ]
  },
  {
   "cell_type": "markdown",
   "metadata": {
    "id": "1wTXQGb8fhpH"
   },
   "source": [
    "#### Решение"
   ]
  },
  {
   "cell_type": "code",
   "execution_count": 5,
   "metadata": {
    "id": "q3Sim0vXfhpJ"
   },
   "outputs": [
    {
     "data": {
      "text/plain": [
       "'Country'"
      ]
     },
     "execution_count": 5,
     "metadata": {},
     "output_type": "execute_result"
    }
   ],
   "source": [
    "sorted(df.columns, key = len)[0]"
   ]
  },
  {
   "cell_type": "markdown",
   "metadata": {
    "id": "qb7eYBMIfhpQ"
   },
   "source": [
    "## ⭐️ Вопрос 5\n",
    "\n",
    "В скольких столбцах встречаются пропущенные значения? (ответ - целое число)"
   ]
  },
  {
   "cell_type": "markdown",
   "metadata": {
    "id": "UmIR_gpOfhpR"
   },
   "source": [
    "#### Решение"
   ]
  },
  {
   "cell_type": "code",
   "execution_count": 6,
   "metadata": {
    "id": "rUPuUnUOfhpS"
   },
   "outputs": [
    {
     "name": "stdout",
     "output_type": "stream",
     "text": [
      "<class 'pandas.core.frame.DataFrame'>\n",
      "RangeIndex: 541911 entries, 0 to 541910\n",
      "Data columns (total 8 columns):\n",
      " #   Column       Non-Null Count   Dtype         \n",
      "---  ------       --------------   -----         \n",
      " 0   InvoiceNo    541911 non-null  object        \n",
      " 1   StockCode    541911 non-null  object        \n",
      " 2   Description  540456 non-null  object        \n",
      " 3   Quantity     541911 non-null  int64         \n",
      " 4   InvoiceDate  541911 non-null  datetime64[ns]\n",
      " 5   UnitPrice    541911 non-null  float64       \n",
      " 6   CustomerID   406831 non-null  float64       \n",
      " 7   Country      541911 non-null  object        \n",
      "dtypes: datetime64[ns](1), float64(2), int64(1), object(4)\n",
      "memory usage: 33.1+ MB\n"
     ]
    }
   ],
   "source": [
    "df.info()\n",
    "\n"
   ]
  },
  {
   "cell_type": "markdown",
   "metadata": {
    "id": "1vTefL-QfhpY"
   },
   "source": [
    "## ⭐️ Вопрос 6\n",
    "\n",
    "Сколько пропущенных значений в столбце CustomerID? (ответ - целое число)"
   ]
  },
  {
   "cell_type": "markdown",
   "metadata": {
    "id": "Gz4hWV3cfhpa"
   },
   "source": [
    "#### Решение"
   ]
  },
  {
   "cell_type": "code",
   "execution_count": 7,
   "metadata": {
    "id": "yc2USQa2fhpb"
   },
   "outputs": [
    {
     "data": {
      "text/plain": [
       "InvoiceNo           0\n",
       "StockCode           0\n",
       "Description      1455\n",
       "Quantity            0\n",
       "InvoiceDate         0\n",
       "UnitPrice           0\n",
       "CustomerID     135080\n",
       "Country             0\n",
       "dtype: int64"
      ]
     },
     "execution_count": 7,
     "metadata": {},
     "output_type": "execute_result"
    }
   ],
   "source": [
    "df.isnull().sum()"
   ]
  },
  {
   "cell_type": "markdown",
   "metadata": {
    "id": "R8z3h8U-fhpj"
   },
   "source": [
    "## ⭐️⭐️ Вопрос 7\n",
    "\n",
    "Посмотрим, данные за какой исторический период у нас есть. \n",
    "\n",
    "Данные за какой самый ранний и за какой самый поздний годы содержатся в датасете? В ответе укажите два целых числа через запятую."
   ]
  },
  {
   "cell_type": "markdown",
   "metadata": {
    "id": "tfgx2MQofhpk"
   },
   "source": [
    "#### Решение"
   ]
  },
  {
   "cell_type": "code",
   "execution_count": 8,
   "metadata": {
    "id": "tSDJk8Amfhpl"
   },
   "outputs": [
    {
     "name": "stdout",
     "output_type": "stream",
     "text": [
      "2011-12-09 12:52:00 2010-12-01 08:26:00\n"
     ]
    }
   ],
   "source": [
    "print(df['InvoiceDate'].sort_values().max(), df['InvoiceDate'].sort_values().min())"
   ]
  },
  {
   "cell_type": "markdown",
   "metadata": {
    "id": "INuGGvCZfhps"
   },
   "source": [
    "## ⭐️ Вопрос 8\n",
    "\n",
    "Каковы минимальная и максимальная цена товаров (UnitPrice)? Перечислите через запятую. Цена в этом задании может принимать отрицательные значения."
   ]
  },
  {
   "cell_type": "markdown",
   "metadata": {
    "id": "E8j9vHa2fhpt"
   },
   "source": [
    "#### Решение"
   ]
  },
  {
   "cell_type": "code",
   "execution_count": 9,
   "metadata": {
    "id": "PTFRTpAXfhpu"
   },
   "outputs": [
    {
     "name": "stdout",
     "output_type": "stream",
     "text": [
      "38970.0 -11062.06\n"
     ]
    }
   ],
   "source": [
    "print(df['UnitPrice'].max(), df['UnitPrice'].min())\n"
   ]
  },
  {
   "cell_type": "markdown",
   "metadata": {
    "id": "20rRayIcfhp0"
   },
   "source": [
    "## ⭐️ Вопрос 9\n",
    "\n",
    "В таблице оказались товары с отрицательными ценами! Это явно какая-то ошибка. Какое описание (Description) у таких транзакций? Перечислите все варианты через запятую, отсортировав строки по алфавиту."
   ]
  },
  {
   "cell_type": "markdown",
   "metadata": {
    "id": "j9WFSD15fhp1"
   },
   "source": [
    "#### Решение"
   ]
  },
  {
   "cell_type": "code",
   "execution_count": 10,
   "metadata": {
    "id": "Vta8JNHKfhp3"
   },
   "outputs": [
    {
     "data": {
      "text/html": [
       "<div>\n",
       "<style scoped>\n",
       "    .dataframe tbody tr th:only-of-type {\n",
       "        vertical-align: middle;\n",
       "    }\n",
       "\n",
       "    .dataframe tbody tr th {\n",
       "        vertical-align: top;\n",
       "    }\n",
       "\n",
       "    .dataframe thead th {\n",
       "        text-align: right;\n",
       "    }\n",
       "</style>\n",
       "<table border=\"1\" class=\"dataframe\">\n",
       "  <thead>\n",
       "    <tr style=\"text-align: right;\">\n",
       "      <th></th>\n",
       "      <th>Description</th>\n",
       "      <th>UnitPrice</th>\n",
       "    </tr>\n",
       "  </thead>\n",
       "  <tbody>\n",
       "    <tr>\n",
       "      <th>299983</th>\n",
       "      <td>Adjust bad debt</td>\n",
       "      <td>-11062.06</td>\n",
       "    </tr>\n",
       "    <tr>\n",
       "      <th>299984</th>\n",
       "      <td>Adjust bad debt</td>\n",
       "      <td>-11062.06</td>\n",
       "    </tr>\n",
       "  </tbody>\n",
       "</table>\n",
       "</div>"
      ],
      "text/plain": [
       "            Description  UnitPrice\n",
       "299983  Adjust bad debt  -11062.06\n",
       "299984  Adjust bad debt  -11062.06"
      ]
     },
     "execution_count": 10,
     "metadata": {},
     "output_type": "execute_result"
    }
   ],
   "source": [
    "df1 = df[['Description', 'UnitPrice']]\n",
    "df1 = df1[df1['UnitPrice'] < 0]\n",
    "df1"
   ]
  },
  {
   "cell_type": "markdown",
   "metadata": {
    "id": "H1EJKLjAfhp9"
   },
   "source": [
    "## ⭐️ Вопрос 10\n",
    "\n",
    "Поищем ещё возможные проблемы с данными. Как насчёт товаров с нулевыми ценами? \n",
    "\n",
    "Сколько в таблице транзакций с нулевой ценой? А с пропусками на месте цены? \n",
    "\n",
    "Перечислите два целых числа через запятую."
   ]
  },
  {
   "cell_type": "markdown",
   "metadata": {
    "id": "xkDFtXxLfhp-"
   },
   "source": [
    "#### Решение"
   ]
  },
  {
   "cell_type": "code",
   "execution_count": 11,
   "metadata": {
    "id": "_liV7v63fhp_"
   },
   "outputs": [
    {
     "name": "stdout",
     "output_type": "stream",
     "text": [
      "2515 0\n"
     ]
    }
   ],
   "source": [
    "df2 = df[['Description', 'UnitPrice']]\n",
    "df2 = df2[df2['UnitPrice'] == 0]\n",
    "print(df2.shape[0], df['UnitPrice'].isnull().sum())"
   ]
  },
  {
   "cell_type": "markdown",
   "metadata": {
    "id": "Q08_ueCWfhqH"
   },
   "source": [
    "## ⭐️⭐️ Вопрос 11\n",
    "\n",
    "Для дальнейшего анализа поведения покупателей нам понадобится набор данных, в которых у каждой транзакции корректно указана цена, количество единиц товара (Quantity) и id покупателя (CustomerID). Удалите из таблицы все строки, в которых цена не превосходит 0 или пропущена, или количество единиц товара не превосходит 0 или пропущено, или в которых пропущен id покупателя. \n",
    "\n",
    "Сколько строк осталось?"
   ]
  },
  {
   "cell_type": "markdown",
   "metadata": {
    "id": "0zs9ntOGfhqI"
   },
   "source": [
    "#### Решение"
   ]
  },
  {
   "cell_type": "code",
   "execution_count": 12,
   "metadata": {
    "id": "46HTX2BJfhqJ"
   },
   "outputs": [
    {
     "name": "stdout",
     "output_type": "stream",
     "text": [
      "<class 'pandas.core.frame.DataFrame'>\n",
      "Int64Index: 397886 entries, 0 to 541910\n",
      "Data columns (total 8 columns):\n",
      " #   Column       Non-Null Count   Dtype         \n",
      "---  ------       --------------   -----         \n",
      " 0   InvoiceNo    397886 non-null  object        \n",
      " 1   StockCode    397886 non-null  object        \n",
      " 2   Description  397886 non-null  object        \n",
      " 3   Quantity     397886 non-null  int64         \n",
      " 4   InvoiceDate  397886 non-null  datetime64[ns]\n",
      " 5   UnitPrice    397886 non-null  float64       \n",
      " 6   CustomerID   397886 non-null  float64       \n",
      " 7   Country      397886 non-null  object        \n",
      "dtypes: datetime64[ns](1), float64(2), int64(1), object(4)\n",
      "memory usage: 27.3+ MB\n"
     ]
    },
    {
     "data": {
      "text/plain": [
       "397886"
      ]
     },
     "execution_count": 12,
     "metadata": {},
     "output_type": "execute_result"
    }
   ],
   "source": [
    "df3 = df[(df['UnitPrice'] > 0) & (df['Quantity'] > 0) & (df['CustomerID'].notnull())]\n",
    "df3.info()\n",
    "df3.shape[0]\n"
   ]
  },
  {
   "cell_type": "markdown",
   "metadata": {
    "id": "807cvilFfhqO"
   },
   "source": [
    "## Внимание! \n",
    "\n",
    "### Везде далее мы работаем с очищенной таблицей, полученной в Вопросе 11."
   ]
  },
  {
   "cell_type": "markdown",
   "metadata": {
    "id": "4dnjXB-qfhqP"
   },
   "source": [
    "## ⭐️⭐️ Вопрос 12\n",
    "\n",
    "В таблице для каждой транзакции указаны цена за единицу товара (UnitPrice) и количество единиц товара (Quantity). Вычислите для каждой транзакции её **полную стоимость** и сохраните в новом столбце Price, который добавьте в таблицу. \n",
    "\n",
    "Каковы минимальная и максимальная полная стоимость транзакций? Перечислите через запятую, округлив до целых чисел."
   ]
  },
  {
   "cell_type": "markdown",
   "metadata": {
    "id": "3SFNrkb-fhqQ"
   },
   "source": [
    "#### Решение"
   ]
  },
  {
   "cell_type": "code",
   "execution_count": 13,
   "metadata": {
    "id": "iIIRF_p-fhqS"
   },
   "outputs": [
    {
     "name": "stdout",
     "output_type": "stream",
     "text": [
      "1 168470\n"
     ]
    },
    {
     "name": "stderr",
     "output_type": "stream",
     "text": [
      "C:\\Users\\niash\\AppData\\Roaming\\Python\\Python37\\site-packages\\ipykernel_launcher.py:1: SettingWithCopyWarning: \n",
      "A value is trying to be set on a copy of a slice from a DataFrame.\n",
      "Try using .loc[row_indexer,col_indexer] = value instead\n",
      "\n",
      "See the caveats in the documentation: https://pandas.pydata.org/pandas-docs/stable/user_guide/indexing.html#returning-a-view-versus-a-copy\n",
      "  \"\"\"Entry point for launching an IPython kernel.\n"
     ]
    },
    {
     "data": {
      "text/html": [
       "<div>\n",
       "<style scoped>\n",
       "    .dataframe tbody tr th:only-of-type {\n",
       "        vertical-align: middle;\n",
       "    }\n",
       "\n",
       "    .dataframe tbody tr th {\n",
       "        vertical-align: top;\n",
       "    }\n",
       "\n",
       "    .dataframe thead th {\n",
       "        text-align: right;\n",
       "    }\n",
       "</style>\n",
       "<table border=\"1\" class=\"dataframe\">\n",
       "  <thead>\n",
       "    <tr style=\"text-align: right;\">\n",
       "      <th></th>\n",
       "      <th>InvoiceNo</th>\n",
       "      <th>StockCode</th>\n",
       "      <th>Description</th>\n",
       "      <th>Quantity</th>\n",
       "      <th>InvoiceDate</th>\n",
       "      <th>UnitPrice</th>\n",
       "      <th>CustomerID</th>\n",
       "      <th>Country</th>\n",
       "      <th>Price</th>\n",
       "    </tr>\n",
       "  </thead>\n",
       "  <tbody>\n",
       "    <tr>\n",
       "      <th>361741</th>\n",
       "      <td>568375</td>\n",
       "      <td>BANK CHARGES</td>\n",
       "      <td>Bank Charges</td>\n",
       "      <td>1</td>\n",
       "      <td>2011-09-26 17:01:00</td>\n",
       "      <td>0.001</td>\n",
       "      <td>13405.0</td>\n",
       "      <td>United Kingdom</td>\n",
       "      <td>0.001</td>\n",
       "    </tr>\n",
       "    <tr>\n",
       "      <th>157195</th>\n",
       "      <td>550193</td>\n",
       "      <td>PADS</td>\n",
       "      <td>PADS TO MATCH ALL CUSHIONS</td>\n",
       "      <td>1</td>\n",
       "      <td>2011-04-15 09:27:00</td>\n",
       "      <td>0.001</td>\n",
       "      <td>13952.0</td>\n",
       "      <td>United Kingdom</td>\n",
       "      <td>0.001</td>\n",
       "    </tr>\n",
       "    <tr>\n",
       "      <th>279045</th>\n",
       "      <td>561226</td>\n",
       "      <td>PADS</td>\n",
       "      <td>PADS TO MATCH ALL CUSHIONS</td>\n",
       "      <td>1</td>\n",
       "      <td>2011-07-26 10:13:00</td>\n",
       "      <td>0.001</td>\n",
       "      <td>15618.0</td>\n",
       "      <td>United Kingdom</td>\n",
       "      <td>0.001</td>\n",
       "    </tr>\n",
       "    <tr>\n",
       "      <th>359871</th>\n",
       "      <td>568200</td>\n",
       "      <td>PADS</td>\n",
       "      <td>PADS TO MATCH ALL CUSHIONS</td>\n",
       "      <td>1</td>\n",
       "      <td>2011-09-25 14:58:00</td>\n",
       "      <td>0.001</td>\n",
       "      <td>16198.0</td>\n",
       "      <td>United Kingdom</td>\n",
       "      <td>0.001</td>\n",
       "    </tr>\n",
       "    <tr>\n",
       "      <th>500313</th>\n",
       "      <td>578757</td>\n",
       "      <td>16216</td>\n",
       "      <td>LETTER SHAPE PENCIL SHARPENER</td>\n",
       "      <td>1</td>\n",
       "      <td>2011-11-25 11:41:00</td>\n",
       "      <td>0.060</td>\n",
       "      <td>12748.0</td>\n",
       "      <td>United Kingdom</td>\n",
       "      <td>0.060</td>\n",
       "    </tr>\n",
       "    <tr>\n",
       "      <th>...</th>\n",
       "      <td>...</td>\n",
       "      <td>...</td>\n",
       "      <td>...</td>\n",
       "      <td>...</td>\n",
       "      <td>...</td>\n",
       "      <td>...</td>\n",
       "      <td>...</td>\n",
       "      <td>...</td>\n",
       "      <td>...</td>\n",
       "    </tr>\n",
       "    <tr>\n",
       "      <th>348325</th>\n",
       "      <td>567423</td>\n",
       "      <td>23243</td>\n",
       "      <td>SET OF TEA COFFEE SUGAR TINS PANTRY</td>\n",
       "      <td>1412</td>\n",
       "      <td>2011-09-20 11:05:00</td>\n",
       "      <td>5.060</td>\n",
       "      <td>17450.0</td>\n",
       "      <td>United Kingdom</td>\n",
       "      <td>7144.720</td>\n",
       "    </tr>\n",
       "    <tr>\n",
       "      <th>173382</th>\n",
       "      <td>551697</td>\n",
       "      <td>POST</td>\n",
       "      <td>POSTAGE</td>\n",
       "      <td>1</td>\n",
       "      <td>2011-05-03 13:46:00</td>\n",
       "      <td>8142.750</td>\n",
       "      <td>16029.0</td>\n",
       "      <td>United Kingdom</td>\n",
       "      <td>8142.750</td>\n",
       "    </tr>\n",
       "    <tr>\n",
       "      <th>222680</th>\n",
       "      <td>556444</td>\n",
       "      <td>22502</td>\n",
       "      <td>PICNIC BASKET WICKER 60 PIECES</td>\n",
       "      <td>60</td>\n",
       "      <td>2011-06-10 15:28:00</td>\n",
       "      <td>649.500</td>\n",
       "      <td>15098.0</td>\n",
       "      <td>United Kingdom</td>\n",
       "      <td>38970.000</td>\n",
       "    </tr>\n",
       "    <tr>\n",
       "      <th>61619</th>\n",
       "      <td>541431</td>\n",
       "      <td>23166</td>\n",
       "      <td>MEDIUM CERAMIC TOP STORAGE JAR</td>\n",
       "      <td>74215</td>\n",
       "      <td>2011-01-18 10:01:00</td>\n",
       "      <td>1.040</td>\n",
       "      <td>12346.0</td>\n",
       "      <td>United Kingdom</td>\n",
       "      <td>77183.600</td>\n",
       "    </tr>\n",
       "    <tr>\n",
       "      <th>540421</th>\n",
       "      <td>581483</td>\n",
       "      <td>23843</td>\n",
       "      <td>PAPER CRAFT , LITTLE BIRDIE</td>\n",
       "      <td>80995</td>\n",
       "      <td>2011-12-09 09:15:00</td>\n",
       "      <td>2.080</td>\n",
       "      <td>16446.0</td>\n",
       "      <td>United Kingdom</td>\n",
       "      <td>168469.600</td>\n",
       "    </tr>\n",
       "  </tbody>\n",
       "</table>\n",
       "<p>397886 rows × 9 columns</p>\n",
       "</div>"
      ],
      "text/plain": [
       "       InvoiceNo     StockCode                          Description  Quantity  \\\n",
       "361741    568375  BANK CHARGES                         Bank Charges         1   \n",
       "157195    550193          PADS           PADS TO MATCH ALL CUSHIONS         1   \n",
       "279045    561226          PADS           PADS TO MATCH ALL CUSHIONS         1   \n",
       "359871    568200          PADS           PADS TO MATCH ALL CUSHIONS         1   \n",
       "500313    578757         16216        LETTER SHAPE PENCIL SHARPENER         1   \n",
       "...          ...           ...                                  ...       ...   \n",
       "348325    567423         23243  SET OF TEA COFFEE SUGAR TINS PANTRY      1412   \n",
       "173382    551697          POST                              POSTAGE         1   \n",
       "222680    556444         22502       PICNIC BASKET WICKER 60 PIECES        60   \n",
       "61619     541431         23166       MEDIUM CERAMIC TOP STORAGE JAR     74215   \n",
       "540421    581483         23843          PAPER CRAFT , LITTLE BIRDIE     80995   \n",
       "\n",
       "               InvoiceDate  UnitPrice  CustomerID         Country       Price  \n",
       "361741 2011-09-26 17:01:00      0.001     13405.0  United Kingdom       0.001  \n",
       "157195 2011-04-15 09:27:00      0.001     13952.0  United Kingdom       0.001  \n",
       "279045 2011-07-26 10:13:00      0.001     15618.0  United Kingdom       0.001  \n",
       "359871 2011-09-25 14:58:00      0.001     16198.0  United Kingdom       0.001  \n",
       "500313 2011-11-25 11:41:00      0.060     12748.0  United Kingdom       0.060  \n",
       "...                    ...        ...         ...             ...         ...  \n",
       "348325 2011-09-20 11:05:00      5.060     17450.0  United Kingdom    7144.720  \n",
       "173382 2011-05-03 13:46:00   8142.750     16029.0  United Kingdom    8142.750  \n",
       "222680 2011-06-10 15:28:00    649.500     15098.0  United Kingdom   38970.000  \n",
       "61619  2011-01-18 10:01:00      1.040     12346.0  United Kingdom   77183.600  \n",
       "540421 2011-12-09 09:15:00      2.080     16446.0  United Kingdom  168469.600  \n",
       "\n",
       "[397886 rows x 9 columns]"
      ]
     },
     "execution_count": 13,
     "metadata": {},
     "output_type": "execute_result"
    }
   ],
   "source": [
    "df3['Price'] = df['Quantity'] * df['UnitPrice']\n",
    "print(math.ceil(df3['Price'].min()), math.ceil(df3['Price'].max()))\n",
    "df3.sort_values('Price')\n"
   ]
  },
  {
   "cell_type": "markdown",
   "metadata": {
    "id": "iXwEUbpAfhqX"
   },
   "source": [
    "## ⭐️⭐️ Вопрос 13\n",
    "\n",
    "В нашей базе данных каждая покупка представлена одной или несколькими транзакциями. Покупка однозначно определяется своим номером инвойса (InvoiceNo). Транзакции, относящиеся к одной покупке, имеют один и тот же InvoiceNo. \n",
    "\n",
    "Стоимость всей покупки равна сумме полных стоимостей транзакций, входящих в неё. Найдите стоимости трёх самых дорогих покупок. Перечислите через запятую в порядке убывания, округлив до целых чисел."
   ]
  },
  {
   "cell_type": "markdown",
   "metadata": {
    "id": "U-uH-V9BfhqZ"
   },
   "source": [
    "#### Решение"
   ]
  },
  {
   "cell_type": "code",
   "execution_count": 14,
   "metadata": {
    "id": "7eRtSDp0fhqZ"
   },
   "outputs": [
    {
     "data": {
      "text/plain": [
       "18499    168470\n",
       "1909      77184\n",
       "7925      38970\n",
       "Name: Price, dtype: int64"
      ]
     },
     "execution_count": 14,
     "metadata": {},
     "output_type": "execute_result"
    }
   ],
   "source": [
    "df3.groupby('InvoiceNo', as_index = False).agg(\"sum\").sort_values('Price', ascending = False)['Price']  \\\n",
    "        .map(lambda x: math.ceil(x)).head(3)\n"
   ]
  },
  {
   "cell_type": "markdown",
   "metadata": {
    "id": "OOFeUBI4fhqd"
   },
   "source": [
    "## ⭐️⭐️ Вопрос 14\n",
    "\n",
    "Какой товар составил наибольшую выручку? В ответе укажите описание товара (дословно строку из соответствующего поля в столбце Description)."
   ]
  },
  {
   "cell_type": "markdown",
   "metadata": {
    "id": "eHIxsT_Mfhqf"
   },
   "source": [
    "#### Решение"
   ]
  },
  {
   "cell_type": "code",
   "execution_count": 15,
   "metadata": {
    "id": "9wCt8Oz4fhqf"
   },
   "outputs": [
    {
     "data": {
      "text/plain": [
       "'PAPER CRAFT , LITTLE BIRDIE'"
      ]
     },
     "execution_count": 15,
     "metadata": {},
     "output_type": "execute_result"
    }
   ],
   "source": [
    "df14 = df3[['Description', 'Price']]\n",
    "df14.groupby('Description', as_index = False).agg(\"sum\").sort_values('Price', ascending = False)['Description'].iloc[0]"
   ]
  },
  {
   "cell_type": "markdown",
   "metadata": {
    "id": "x7takqgnfhqj"
   },
   "source": [
    "## ⭐️⭐️ Вопрос 15\n",
    "\n",
    "Создайте новую таблицу purchases, в которой каждая строка будет соответствовать отдельной покупке, со столбцами \n",
    "InvoiceNo, InvoiceDate, Price, CustomerID, Country.\n",
    "\n",
    "Поскольку дата InvoiceDate может быть отличаться для разных транзакций внутри одной покупки, при группировке возьмите самую раннюю из дат. Также отсортируйте её по датам по возрастанию.\n",
    "\n",
    "Учтите, что InvoiceDate — не уникальное поле, данные стоит дополнительно отсортировать по InvoiceNo, перед тем как брать первое значение группы.\n",
    "\n",
    "Сколько получилось строк?"
   ]
  },
  {
   "cell_type": "markdown",
   "metadata": {
    "id": "LDLweA0Yfhqj"
   },
   "source": [
    "#### Решение"
   ]
  },
  {
   "cell_type": "code",
   "execution_count": 16,
   "metadata": {
    "id": "jkjImvCXfhql"
   },
   "outputs": [
    {
     "data": {
      "text/html": [
       "<div>\n",
       "<style scoped>\n",
       "    .dataframe tbody tr th:only-of-type {\n",
       "        vertical-align: middle;\n",
       "    }\n",
       "\n",
       "    .dataframe tbody tr th {\n",
       "        vertical-align: top;\n",
       "    }\n",
       "\n",
       "    .dataframe thead th {\n",
       "        text-align: right;\n",
       "    }\n",
       "</style>\n",
       "<table border=\"1\" class=\"dataframe\">\n",
       "  <thead>\n",
       "    <tr style=\"text-align: right;\">\n",
       "      <th></th>\n",
       "      <th>InvoiceNo</th>\n",
       "      <th>InvoiceDate</th>\n",
       "      <th>Price</th>\n",
       "      <th>CustomerID</th>\n",
       "      <th>Country</th>\n",
       "    </tr>\n",
       "  </thead>\n",
       "  <tbody>\n",
       "    <tr>\n",
       "      <th>0</th>\n",
       "      <td>536365</td>\n",
       "      <td>2010-12-01 08:26:00</td>\n",
       "      <td>139.12</td>\n",
       "      <td>17850.0</td>\n",
       "      <td>United Kingdom</td>\n",
       "    </tr>\n",
       "    <tr>\n",
       "      <th>1</th>\n",
       "      <td>536366</td>\n",
       "      <td>2010-12-01 08:28:00</td>\n",
       "      <td>22.20</td>\n",
       "      <td>17850.0</td>\n",
       "      <td>United Kingdom</td>\n",
       "    </tr>\n",
       "    <tr>\n",
       "      <th>2</th>\n",
       "      <td>536367</td>\n",
       "      <td>2010-12-01 08:34:00</td>\n",
       "      <td>278.73</td>\n",
       "      <td>13047.0</td>\n",
       "      <td>United Kingdom</td>\n",
       "    </tr>\n",
       "    <tr>\n",
       "      <th>3</th>\n",
       "      <td>536368</td>\n",
       "      <td>2010-12-01 08:34:00</td>\n",
       "      <td>70.05</td>\n",
       "      <td>13047.0</td>\n",
       "      <td>United Kingdom</td>\n",
       "    </tr>\n",
       "    <tr>\n",
       "      <th>4</th>\n",
       "      <td>536369</td>\n",
       "      <td>2010-12-01 08:35:00</td>\n",
       "      <td>17.85</td>\n",
       "      <td>13047.0</td>\n",
       "      <td>United Kingdom</td>\n",
       "    </tr>\n",
       "    <tr>\n",
       "      <th>...</th>\n",
       "      <td>...</td>\n",
       "      <td>...</td>\n",
       "      <td>...</td>\n",
       "      <td>...</td>\n",
       "      <td>...</td>\n",
       "    </tr>\n",
       "    <tr>\n",
       "      <th>18528</th>\n",
       "      <td>581584</td>\n",
       "      <td>2011-12-09 12:25:00</td>\n",
       "      <td>140.64</td>\n",
       "      <td>13777.0</td>\n",
       "      <td>United Kingdom</td>\n",
       "    </tr>\n",
       "    <tr>\n",
       "      <th>18529</th>\n",
       "      <td>581585</td>\n",
       "      <td>2011-12-09 12:31:00</td>\n",
       "      <td>329.05</td>\n",
       "      <td>15804.0</td>\n",
       "      <td>United Kingdom</td>\n",
       "    </tr>\n",
       "    <tr>\n",
       "      <th>18530</th>\n",
       "      <td>581586</td>\n",
       "      <td>2011-12-09 12:49:00</td>\n",
       "      <td>339.20</td>\n",
       "      <td>13113.0</td>\n",
       "      <td>United Kingdom</td>\n",
       "    </tr>\n",
       "    <tr>\n",
       "      <th>18531</th>\n",
       "      <td>581587</td>\n",
       "      <td>2011-12-09 12:50:00</td>\n",
       "      <td>249.45</td>\n",
       "      <td>12680.0</td>\n",
       "      <td>France</td>\n",
       "    </tr>\n",
       "    <tr>\n",
       "      <th>18532</th>\n",
       "      <td>581588</td>\n",
       "      <td>2011-12-09 12:52:00</td>\n",
       "      <td>37.80</td>\n",
       "      <td>12594.0</td>\n",
       "      <td>Italy</td>\n",
       "    </tr>\n",
       "  </tbody>\n",
       "</table>\n",
       "<p>18533 rows × 5 columns</p>\n",
       "</div>"
      ],
      "text/plain": [
       "      InvoiceNo         InvoiceDate   Price  CustomerID         Country\n",
       "0        536365 2010-12-01 08:26:00  139.12     17850.0  United Kingdom\n",
       "1        536366 2010-12-01 08:28:00   22.20     17850.0  United Kingdom\n",
       "2        536367 2010-12-01 08:34:00  278.73     13047.0  United Kingdom\n",
       "3        536368 2010-12-01 08:34:00   70.05     13047.0  United Kingdom\n",
       "4        536369 2010-12-01 08:35:00   17.85     13047.0  United Kingdom\n",
       "...         ...                 ...     ...         ...             ...\n",
       "18528    581584 2011-12-09 12:25:00  140.64     13777.0  United Kingdom\n",
       "18529    581585 2011-12-09 12:31:00  329.05     15804.0  United Kingdom\n",
       "18530    581586 2011-12-09 12:49:00  339.20     13113.0  United Kingdom\n",
       "18531    581587 2011-12-09 12:50:00  249.45     12680.0          France\n",
       "18532    581588 2011-12-09 12:52:00   37.80     12594.0           Italy\n",
       "\n",
       "[18533 rows x 5 columns]"
      ]
     },
     "execution_count": 16,
     "metadata": {},
     "output_type": "execute_result"
    }
   ],
   "source": [
    "purchases = df3[['InvoiceNo', 'InvoiceDate','Price', 'CustomerID', 'Country']].sort_values(['InvoiceNo', 'InvoiceDate'])\n",
    "purchases = purchases.groupby('InvoiceNo', as_index = False) \\\n",
    "            .agg({'InvoiceDate':lambda x: x.iloc[0], 'Price':'sum', \n",
    "                 'CustomerID':lambda x: x.iloc[0],'Country':lambda x: x.iloc[0] })\n",
    "purchases"
   ]
  },
  {
   "cell_type": "markdown",
   "metadata": {
    "id": "wsDjduFpfhqp"
   },
   "source": [
    "## ⭐️⭐️ Вопрос 16\n",
    "\n",
    "Исследуем, растут или убывают покупки наших клиентов после их первой покупки на сайте. Найдите среднюю цену первых покупок клиентов: для каждого клиента возьмите его первую покупку и усредните эти значения. Найдите среднюю цену покупок в целом. Округлите эти числа до целых и перечислите в этом порядке через запятую.\n",
    "\n",
    "\\* При равных TimeStamp по покупкам первой считается покупка с меньшим InvoiceNo."
   ]
  },
  {
   "cell_type": "markdown",
   "metadata": {
    "id": "rzpArrmkfhqq"
   },
   "source": [
    "#### Решение"
   ]
  },
  {
   "cell_type": "code",
   "execution_count": 17,
   "metadata": {
    "id": "4fvR_p2Bfhqq"
   },
   "outputs": [
    {
     "data": {
      "text/plain": [
       "425.656524435223"
      ]
     },
     "execution_count": 17,
     "metadata": {},
     "output_type": "execute_result"
    }
   ],
   "source": [
    "mean_purc = 0\n",
    "for ID in purchases['CustomerID'].unique().tolist():\n",
    "    mean_purc += purchases[purchases['CustomerID'] == ID]['Price'].iloc[0]\n",
    "    \n",
    "mean_purc = mean_purc / purchases['CustomerID'].unique().shape[0]\n",
    "mean_purc\n",
    "    "
   ]
  },
  {
   "cell_type": "code",
   "execution_count": 18,
   "metadata": {},
   "outputs": [
    {
     "name": "stdout",
     "output_type": "stream",
     "text": [
      "426 481\n"
     ]
    }
   ],
   "source": [
    "df16 = purchases[['CustomerID','Price']].groupby('CustomerID', as_index = False) \\\n",
    "            .agg({'Price':lambda x: x.iloc[0]})\n",
    "print(math.ceil(df16['Price'].mean()), math.ceil(purchases['Price'].mean()))\n"
   ]
  },
  {
   "cell_type": "markdown",
   "metadata": {
    "id": "Qxcpz-aVfhqv"
   },
   "source": [
    "## ⭐️⭐️⭐️ Вопрос 17\n",
    "\n",
    "В какой день недели было наибольшее число покупок? В ответе укажите русское название дня недели, начинающееся с заглавной буквы.\n",
    "\n",
    "\n",
    "Подсказка: \n",
    "* Преобразуйте тип данных в столбце InvoiceDate таблицы purchases из строк в datetime. \n",
    "* Для каждой покупки вычислите день недели, в который она была совершена. Сохраните в новый столбец.\n",
    "* Сгруппируйте таблицу по дням недели."
   ]
  },
  {
   "cell_type": "markdown",
   "metadata": {
    "id": "jlX_adwbfhqw"
   },
   "source": [
    "#### Решение"
   ]
  },
  {
   "cell_type": "code",
   "execution_count": 19,
   "metadata": {
    "id": "WTNLys9dfhqw"
   },
   "outputs": [
    {
     "data": {
      "text/plain": [
       "'Thursday'"
      ]
     },
     "execution_count": 19,
     "metadata": {},
     "output_type": "execute_result"
    }
   ],
   "source": [
    "purchases['Day'] = purchases['InvoiceDate'].map(lambda x: x.day_name())\n",
    "purchases.groupby('Day',as_index = False).agg('count').sort_values('InvoiceNo')[['Day', 'InvoiceNo']].iloc[-1]['Day']\n"
   ]
  },
  {
   "cell_type": "markdown",
   "metadata": {
    "id": "G84tAqVTfhq1"
   },
   "source": [
    "## ⭐️⭐️⭐️ Вопрос 18\n",
    "\n",
    "В какой год и месяц выручка была максимальной?\n",
    "\n",
    "Подсказка: \n",
    "* Преобразуйте тип данных в столбце InvoiceDate таблицы purchases из строк в datetime. \n",
    "* Для каждой покупки вычислите год и месяц, в которые она была совершена. Сохраните в новые столбцы.\n",
    "* Сгруппируйте таблицу по новым столбцам\n",
    "\n",
    "В ответе укажите два целых числа через запятую: год, месяц"
   ]
  },
  {
   "cell_type": "markdown",
   "metadata": {
    "id": "k7b_70CIfhq2"
   },
   "source": [
    "#### Решение"
   ]
  },
  {
   "cell_type": "code",
   "execution_count": 20,
   "metadata": {
    "id": "C7YosvXBfhq2"
   },
   "outputs": [
    {
     "name": "stdout",
     "output_type": "stream",
     "text": [
      "November 2011.0\n"
     ]
    }
   ],
   "source": [
    "purchases['month'] = purchases['InvoiceDate'].map(lambda x: x.month_name())\n",
    "purchases['year'] = purchases['InvoiceDate'].map(lambda x: x.year)\n",
    "\n",
    "print(purchases.groupby('month',as_index = False).agg('sum').sort_values('Price')[['month', 'Price']].iloc[-1]['month'],\n",
    "     purchases.groupby('year',as_index = False).agg('sum').sort_values('Price')[['year', 'Price']].iloc[-1]['year'])\n"
   ]
  },
  {
   "cell_type": "markdown",
   "metadata": {
    "id": "sU7-9E2nfhq4"
   },
   "source": [
    "## ⭐️⭐️⭐️ Вопрос 19\n",
    "\n",
    "Магазин продаёт товары покупателям из разных стран (Country). В какой стране был наибольший процентный рост месячных продаж, если сравнить март 2011 и сентябрь 2011? Сколько процентов составил этот рост? В расчёт брать только страны, в которых были ненулевые продажи в обоих этих месяцах. В ответе укажите через запятую название страны и целое число (процентный рост, округлённый до целого числа)."
   ]
  },
  {
   "cell_type": "markdown",
   "metadata": {
    "id": "UyC1iE0nfhq5"
   },
   "source": [
    "#### Решение"
   ]
  },
  {
   "cell_type": "code",
   "execution_count": 21,
   "metadata": {
    "id": "BB0tn1a_fhq5"
   },
   "outputs": [
    {
     "name": "stderr",
     "output_type": "stream",
     "text": [
      "C:\\Users\\niash\\AppData\\Roaming\\Python\\Python37\\site-packages\\ipykernel_launcher.py:5: FutureWarning: Comparison of Timestamp with datetime.date is deprecated in order to match the standard library behavior.  In a future version these will be considered non-comparable.Use 'ts == pd.Timestamp(date)' or 'ts.date() == date' instead.\n",
      "  \"\"\"\n",
      "C:\\Users\\niash\\AppData\\Roaming\\Python\\Python37\\site-packages\\ipykernel_launcher.py:6: FutureWarning: Comparison of Timestamp with datetime.date is deprecated in order to match the standard library behavior.  In a future version these will be considered non-comparable.Use 'ts == pd.Timestamp(date)' or 'ts.date() == date' instead.\n",
      "  \n",
      "C:\\Users\\niash\\AppData\\Roaming\\Python\\Python37\\site-packages\\ipykernel_launcher.py:8: FutureWarning: Comparison of Timestamp with datetime.date is deprecated in order to match the standard library behavior.  In a future version these will be considered non-comparable.Use 'ts == pd.Timestamp(date)' or 'ts.date() == date' instead.\n",
      "  \n",
      "C:\\Users\\niash\\AppData\\Roaming\\Python\\Python37\\site-packages\\ipykernel_launcher.py:9: FutureWarning: Comparison of Timestamp with datetime.date is deprecated in order to match the standard library behavior.  In a future version these will be considered non-comparable.Use 'ts == pd.Timestamp(date)' or 'ts.date() == date' instead.\n",
      "  if __name__ == '__main__':\n"
     ]
    },
    {
     "data": {
      "text/plain": [
       "Country        Norway\n",
       "Price_x       1265.31\n",
       "Price_y       8678.94\n",
       "procent    585.914124\n",
       "Name: 15, dtype: object"
      ]
     },
     "execution_count": 21,
     "metadata": {},
     "output_type": "execute_result"
    }
   ],
   "source": [
    "day1 = pd.to_datetime('2011-3-1')\n",
    "day2 = pd.to_datetime('2011-4-1')\n",
    "day3 = pd.to_datetime('2011-9-1')\n",
    "day4 = pd.to_datetime('2011-10-1')\n",
    "dff1 = purchases[(purchases['InvoiceDate'].map(lambda x: x.date() >= day1)) &  \\\n",
    "               (purchases['InvoiceDate'].map(lambda x: x.date() < day2))][['Country','Price']] \\\n",
    "                .groupby('Country', as_index = False).agg('sum')\n",
    "dff2 = purchases[(purchases['InvoiceDate'].map(lambda x: x.date() >= day3)) &  \\\n",
    "               (purchases['InvoiceDate'].map(lambda x: x.date() < day4))][['Country','Price']] \\\n",
    "                .groupby('Country', as_index = False).agg('sum')\n",
    "dff1 = dff1.merge(dff2, on = 'Country', how = 'left').dropna()\n",
    "dff1['procent'] = (dff1['Price_y'] - dff1['Price_x']) / dff1['Price_x'] * 100\n",
    "dff1.sort_values('procent').iloc[-1]"
   ]
  },
  {
   "cell_type": "markdown",
   "metadata": {
    "id": "ZvCX0qZufhq7"
   },
   "source": [
    "## ⭐️⭐️⭐️ Вопрос 20\n",
    "\n",
    "Большинство клиентов все свои покупки делают из одной и той же страны. Выясним, однако, насколько велика доля путешественников среди клиентов. \n",
    "Сколько клиентов сделали покупки по крайней мере из двух разных стран? (ответ - целое число)"
   ]
  },
  {
   "cell_type": "markdown",
   "metadata": {
    "id": "2ujHtufofhq8"
   },
   "source": [
    "#### Решение"
   ]
  },
  {
   "cell_type": "code",
   "execution_count": 22,
   "metadata": {
    "id": "2AhOPHJQfhq8"
   },
   "outputs": [
    {
     "data": {
      "text/plain": [
       "8"
      ]
     },
     "execution_count": 22,
     "metadata": {},
     "output_type": "execute_result"
    }
   ],
   "source": [
    "df20 = purchases[['Country', 'CustomerID']].groupby('CustomerID', as_index = False).agg('nunique').sort_values('Country')\n",
    "df20[df20['Country'] > 1].shape[0]"
   ]
  },
  {
   "cell_type": "code",
   "execution_count": null,
   "metadata": {},
   "outputs": [],
   "source": []
  }
 ],
 "metadata": {
  "colab": {
   "collapsed_sections": [
    "1wTXQGb8fhpH",
    "UmIR_gpOfhpR",
    "Gz4hWV3cfhpa",
    "tfgx2MQofhpk",
    "E8j9vHa2fhpt",
    "j9WFSD15fhp1",
    "xkDFtXxLfhp-",
    "0zs9ntOGfhqI",
    "3SFNrkb-fhqQ",
    "U-uH-V9BfhqZ",
    "eHIxsT_Mfhqf",
    "LDLweA0Yfhqj",
    "rzpArrmkfhqq",
    "jlX_adwbfhqw",
    "k7b_70CIfhq2",
    "UyC1iE0nfhq5",
    "2ujHtufofhq8",
    "fiV0QEWJfhrA"
   ],
   "name": "exam.ipynb",
   "provenance": []
  },
  "kernelspec": {
   "display_name": "Python 3 (ipykernel)",
   "language": "python",
   "name": "python3"
  },
  "language_info": {
   "codemirror_mode": {
    "name": "ipython",
    "version": 3
   },
   "file_extension": ".py",
   "mimetype": "text/x-python",
   "name": "python",
   "nbconvert_exporter": "python",
   "pygments_lexer": "ipython3",
   "version": "3.7.6"
  }
 },
 "nbformat": 4,
 "nbformat_minor": 1
}
